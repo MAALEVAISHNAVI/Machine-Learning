{
  "nbformat": 4,
  "nbformat_minor": 0,
  "metadata": {
    "colab": {
      "provenance": [],
      "authorship_tag": "ABX9TyPpPGmyOC44p9CWWakqebzM",
      "include_colab_link": true
    },
    "kernelspec": {
      "name": "python3",
      "display_name": "Python 3"
    },
    "language_info": {
      "name": "python"
    }
  },
  "cells": [
    {
      "cell_type": "markdown",
      "metadata": {
        "id": "view-in-github",
        "colab_type": "text"
      },
      "source": [
        "<a href=\"https://colab.research.google.com/github/MAALEVAISHNAVI/Machine-Learning/blob/main/Copy_of_student_logistic_regression.ipynb\" target=\"_parent\"><img src=\"https://colab.research.google.com/assets/colab-badge.svg\" alt=\"Open In Colab\"/></a>"
      ]
    },
    {
      "cell_type": "code",
      "execution_count": null,
      "metadata": {
        "id": "5V6ZO0uxzf06"
      },
      "outputs": [],
      "source": [
        "import pandas as pd\n",
        "import numpy as np\n",
        "import matplotlib.pyplot as plt\n",
        "from numpy import array\n",
        "from matplotlib.colors import ListedColormap\n",
        "from sklearn.model_selection import train_test_split\n",
        "from sklearn.linear_model import LogisticRegression\n",
        "from sklearn.metrics import confusion_matrix, accuracy_score\n",
        "from sklearn import metrics\n",
        "import seaborn as sns"
      ]
    },
    {
      "cell_type": "code",
      "source": [
        "dataset=pd.read_csv(\"/content/sample_data/logistic_data.csv\")\n",
        "dataset"
      ],
      "metadata": {
        "colab": {
          "base_uri": "https://localhost:8080/",
          "height": 356
        },
        "id": "kRmzENNU32oN",
        "outputId": "14795421-ffbf-449b-ddc6-c2e8268e4fb5"
      },
      "execution_count": null,
      "outputs": [
        {
          "output_type": "error",
          "ename": "FileNotFoundError",
          "evalue": "[Errno 2] No such file or directory: '/content/sample_data/logistic_data.csv'",
          "traceback": [
            "\u001b[0;31m---------------------------------------------------------------------------\u001b[0m",
            "\u001b[0;31mFileNotFoundError\u001b[0m                         Traceback (most recent call last)",
            "\u001b[0;32m<ipython-input-3-3c3f608c3179>\u001b[0m in \u001b[0;36m<cell line: 1>\u001b[0;34m()\u001b[0m\n\u001b[0;32m----> 1\u001b[0;31m \u001b[0mdataset\u001b[0m\u001b[0;34m=\u001b[0m\u001b[0mpd\u001b[0m\u001b[0;34m.\u001b[0m\u001b[0mread_csv\u001b[0m\u001b[0;34m(\u001b[0m\u001b[0;34m\"/content/sample_data/logistic_data.csv\"\u001b[0m\u001b[0;34m)\u001b[0m\u001b[0;34m\u001b[0m\u001b[0;34m\u001b[0m\u001b[0m\n\u001b[0m\u001b[1;32m      2\u001b[0m \u001b[0mdataset\u001b[0m\u001b[0;34m\u001b[0m\u001b[0;34m\u001b[0m\u001b[0m\n",
            "\u001b[0;32m/usr/local/lib/python3.10/dist-packages/pandas/io/parsers/readers.py\u001b[0m in \u001b[0;36mread_csv\u001b[0;34m(filepath_or_buffer, sep, delimiter, header, names, index_col, usecols, dtype, engine, converters, true_values, false_values, skipinitialspace, skiprows, skipfooter, nrows, na_values, keep_default_na, na_filter, verbose, skip_blank_lines, parse_dates, infer_datetime_format, keep_date_col, date_parser, date_format, dayfirst, cache_dates, iterator, chunksize, compression, thousands, decimal, lineterminator, quotechar, quoting, doublequote, escapechar, comment, encoding, encoding_errors, dialect, on_bad_lines, delim_whitespace, low_memory, memory_map, float_precision, storage_options, dtype_backend)\u001b[0m\n\u001b[1;32m    910\u001b[0m     \u001b[0mkwds\u001b[0m\u001b[0;34m.\u001b[0m\u001b[0mupdate\u001b[0m\u001b[0;34m(\u001b[0m\u001b[0mkwds_defaults\u001b[0m\u001b[0;34m)\u001b[0m\u001b[0;34m\u001b[0m\u001b[0;34m\u001b[0m\u001b[0m\n\u001b[1;32m    911\u001b[0m \u001b[0;34m\u001b[0m\u001b[0m\n\u001b[0;32m--> 912\u001b[0;31m     \u001b[0;32mreturn\u001b[0m \u001b[0m_read\u001b[0m\u001b[0;34m(\u001b[0m\u001b[0mfilepath_or_buffer\u001b[0m\u001b[0;34m,\u001b[0m \u001b[0mkwds\u001b[0m\u001b[0;34m)\u001b[0m\u001b[0;34m\u001b[0m\u001b[0;34m\u001b[0m\u001b[0m\n\u001b[0m\u001b[1;32m    913\u001b[0m \u001b[0;34m\u001b[0m\u001b[0m\n\u001b[1;32m    914\u001b[0m \u001b[0;34m\u001b[0m\u001b[0m\n",
            "\u001b[0;32m/usr/local/lib/python3.10/dist-packages/pandas/io/parsers/readers.py\u001b[0m in \u001b[0;36m_read\u001b[0;34m(filepath_or_buffer, kwds)\u001b[0m\n\u001b[1;32m    575\u001b[0m \u001b[0;34m\u001b[0m\u001b[0m\n\u001b[1;32m    576\u001b[0m     \u001b[0;31m# Create the parser.\u001b[0m\u001b[0;34m\u001b[0m\u001b[0;34m\u001b[0m\u001b[0m\n\u001b[0;32m--> 577\u001b[0;31m     \u001b[0mparser\u001b[0m \u001b[0;34m=\u001b[0m \u001b[0mTextFileReader\u001b[0m\u001b[0;34m(\u001b[0m\u001b[0mfilepath_or_buffer\u001b[0m\u001b[0;34m,\u001b[0m \u001b[0;34m**\u001b[0m\u001b[0mkwds\u001b[0m\u001b[0;34m)\u001b[0m\u001b[0;34m\u001b[0m\u001b[0;34m\u001b[0m\u001b[0m\n\u001b[0m\u001b[1;32m    578\u001b[0m \u001b[0;34m\u001b[0m\u001b[0m\n\u001b[1;32m    579\u001b[0m     \u001b[0;32mif\u001b[0m \u001b[0mchunksize\u001b[0m \u001b[0;32mor\u001b[0m \u001b[0miterator\u001b[0m\u001b[0;34m:\u001b[0m\u001b[0;34m\u001b[0m\u001b[0;34m\u001b[0m\u001b[0m\n",
            "\u001b[0;32m/usr/local/lib/python3.10/dist-packages/pandas/io/parsers/readers.py\u001b[0m in \u001b[0;36m__init__\u001b[0;34m(self, f, engine, **kwds)\u001b[0m\n\u001b[1;32m   1405\u001b[0m \u001b[0;34m\u001b[0m\u001b[0m\n\u001b[1;32m   1406\u001b[0m         \u001b[0mself\u001b[0m\u001b[0;34m.\u001b[0m\u001b[0mhandles\u001b[0m\u001b[0;34m:\u001b[0m \u001b[0mIOHandles\u001b[0m \u001b[0;34m|\u001b[0m \u001b[0;32mNone\u001b[0m \u001b[0;34m=\u001b[0m \u001b[0;32mNone\u001b[0m\u001b[0;34m\u001b[0m\u001b[0;34m\u001b[0m\u001b[0m\n\u001b[0;32m-> 1407\u001b[0;31m         \u001b[0mself\u001b[0m\u001b[0;34m.\u001b[0m\u001b[0m_engine\u001b[0m \u001b[0;34m=\u001b[0m \u001b[0mself\u001b[0m\u001b[0;34m.\u001b[0m\u001b[0m_make_engine\u001b[0m\u001b[0;34m(\u001b[0m\u001b[0mf\u001b[0m\u001b[0;34m,\u001b[0m \u001b[0mself\u001b[0m\u001b[0;34m.\u001b[0m\u001b[0mengine\u001b[0m\u001b[0;34m)\u001b[0m\u001b[0;34m\u001b[0m\u001b[0;34m\u001b[0m\u001b[0m\n\u001b[0m\u001b[1;32m   1408\u001b[0m \u001b[0;34m\u001b[0m\u001b[0m\n\u001b[1;32m   1409\u001b[0m     \u001b[0;32mdef\u001b[0m \u001b[0mclose\u001b[0m\u001b[0;34m(\u001b[0m\u001b[0mself\u001b[0m\u001b[0;34m)\u001b[0m \u001b[0;34m->\u001b[0m \u001b[0;32mNone\u001b[0m\u001b[0;34m:\u001b[0m\u001b[0;34m\u001b[0m\u001b[0;34m\u001b[0m\u001b[0m\n",
            "\u001b[0;32m/usr/local/lib/python3.10/dist-packages/pandas/io/parsers/readers.py\u001b[0m in \u001b[0;36m_make_engine\u001b[0;34m(self, f, engine)\u001b[0m\n\u001b[1;32m   1659\u001b[0m                 \u001b[0;32mif\u001b[0m \u001b[0;34m\"b\"\u001b[0m \u001b[0;32mnot\u001b[0m \u001b[0;32min\u001b[0m \u001b[0mmode\u001b[0m\u001b[0;34m:\u001b[0m\u001b[0;34m\u001b[0m\u001b[0;34m\u001b[0m\u001b[0m\n\u001b[1;32m   1660\u001b[0m                     \u001b[0mmode\u001b[0m \u001b[0;34m+=\u001b[0m \u001b[0;34m\"b\"\u001b[0m\u001b[0;34m\u001b[0m\u001b[0;34m\u001b[0m\u001b[0m\n\u001b[0;32m-> 1661\u001b[0;31m             self.handles = get_handle(\n\u001b[0m\u001b[1;32m   1662\u001b[0m                 \u001b[0mf\u001b[0m\u001b[0;34m,\u001b[0m\u001b[0;34m\u001b[0m\u001b[0;34m\u001b[0m\u001b[0m\n\u001b[1;32m   1663\u001b[0m                 \u001b[0mmode\u001b[0m\u001b[0;34m,\u001b[0m\u001b[0;34m\u001b[0m\u001b[0;34m\u001b[0m\u001b[0m\n",
            "\u001b[0;32m/usr/local/lib/python3.10/dist-packages/pandas/io/common.py\u001b[0m in \u001b[0;36mget_handle\u001b[0;34m(path_or_buf, mode, encoding, compression, memory_map, is_text, errors, storage_options)\u001b[0m\n\u001b[1;32m    857\u001b[0m         \u001b[0;32mif\u001b[0m \u001b[0mioargs\u001b[0m\u001b[0;34m.\u001b[0m\u001b[0mencoding\u001b[0m \u001b[0;32mand\u001b[0m \u001b[0;34m\"b\"\u001b[0m \u001b[0;32mnot\u001b[0m \u001b[0;32min\u001b[0m \u001b[0mioargs\u001b[0m\u001b[0;34m.\u001b[0m\u001b[0mmode\u001b[0m\u001b[0;34m:\u001b[0m\u001b[0;34m\u001b[0m\u001b[0;34m\u001b[0m\u001b[0m\n\u001b[1;32m    858\u001b[0m             \u001b[0;31m# Encoding\u001b[0m\u001b[0;34m\u001b[0m\u001b[0;34m\u001b[0m\u001b[0m\n\u001b[0;32m--> 859\u001b[0;31m             handle = open(\n\u001b[0m\u001b[1;32m    860\u001b[0m                 \u001b[0mhandle\u001b[0m\u001b[0;34m,\u001b[0m\u001b[0;34m\u001b[0m\u001b[0;34m\u001b[0m\u001b[0m\n\u001b[1;32m    861\u001b[0m                 \u001b[0mioargs\u001b[0m\u001b[0;34m.\u001b[0m\u001b[0mmode\u001b[0m\u001b[0;34m,\u001b[0m\u001b[0;34m\u001b[0m\u001b[0;34m\u001b[0m\u001b[0m\n",
            "\u001b[0;31mFileNotFoundError\u001b[0m: [Errno 2] No such file or directory: '/content/sample_data/logistic_data.csv'"
          ]
        }
      ]
    },
    {
      "cell_type": "code",
      "source": [
        "x=dataset.iloc[:,[0,1]].values\n",
        "x"
      ],
      "metadata": {
        "colab": {
          "base_uri": "https://localhost:8080/"
        },
        "id": "Rfnc0xIA5VoI",
        "outputId": "6b40be6a-273b-4f34-f20d-628647905121"
      },
      "execution_count": null,
      "outputs": [
        {
          "output_type": "execute_result",
          "data": {
            "text/plain": [
              "array([[2.4443, 1.5438],\n",
              "       [4.2409, 1.899 ],\n",
              "       [5.8097, 2.4711],\n",
              "       [6.4423, 3.359 ],\n",
              "       [5.8097, 3.2406],\n",
              "       [6.3917, 3.8128],\n",
              "       [6.8725, 4.4441],\n",
              "       [6.7966, 3.6747],\n",
              "       [8.163 , 4.7401],\n",
              "       [7.4038, 3.8917],\n",
              "       [7.6316, 4.602 ],\n",
              "       [7.7581, 5.7265],\n",
              "       [6.5688, 4.9571],\n",
              "       [5.3543, 3.9903],\n",
              "       [4.4686, 3.0236],\n",
              "       [2.9757, 2.0568],\n",
              "       [2.4443, 1.2676],\n",
              "       [0.9008, 1.169 ],\n",
              "       [2.1154, 1.7411],\n",
              "       [3.2794, 1.386 ],\n",
              "       [4.165 , 1.5636],\n",
              "       [4.8482, 1.8793],\n",
              "       [3.33  , 2.7868],\n",
              "       [5.1518, 3.5563],\n",
              "       [6.2652, 4.0693],\n",
              "       [6.2652, 4.3849],\n",
              "       [7.2014, 1.5438],\n",
              "       [7.6569, 2.412 ],\n",
              "       [6.1387, 1.7806],\n",
              "       [4.4939, 1.4057],\n",
              "       [4.8735, 2.6093],\n",
              "       [5.5314, 3.0828],\n",
              "       [6.0121, 3.9311],\n",
              "       [7.1508, 4.7598],\n",
              "       [7.7075, 5.3122],\n",
              "       [8.3148, 5.7068],\n",
              "       [8.5172, 5.1149],\n",
              "       [8.7449, 5.4109],\n",
              "       [7.8593, 3.8128],\n",
              "       [6.999 , 3.2406],\n",
              "       [5.5061, 2.9052],\n",
              "       [4.9241, 2.6882],\n",
              "       [6.6447, 3.8325],\n",
              "       [7.6822, 4.5428],\n",
              "       [8.0364, 5.7857],\n",
              "       [8.9221, 6.5552],\n",
              "       [7.8593, 5.253 ],\n",
              "       [6.5941, 5.2333],\n",
              "       [6.0374, 4.7598],\n",
              "       [2.7227, 4.5822],\n",
              "       [1.9383, 3.6549],\n",
              "       [1.6852, 2.9841],\n",
              "       [4.3168, 4.4244],\n",
              "       [3.4312, 3.7536],\n",
              "       [5.4808, 5.2728],\n",
              "       [4.1144, 4.8387],\n",
              "       [3.2034, 4.4244],\n",
              "       [4.1144, 5.3911],\n",
              "       [5.1012, 6.0817],\n",
              "       [4.8988, 5.5687],\n",
              "       [5.9615, 6.4565],\n",
              "       [5.7591, 6.0028],\n",
              "       [6.6953, 6.7722],\n",
              "       [5.7338, 6.6538],\n",
              "       [6.6194, 7.1471],\n",
              "       [7.2014, 7.5219],\n",
              "       [7.2014, 6.8314],\n",
              "       [8.5931, 7.6206],\n",
              "       [7.7581, 7.1865],\n",
              "       [7.7581, 7.7784],\n",
              "       [5.1012, 7.6009],\n",
              "       [4.2156, 6.496 ],\n",
              "       [3.4818, 5.8055],\n",
              "       [2.3684, 5.0163],\n",
              "       [1.7864, 4.1876],\n",
              "       [0.9008, 3.4379],\n",
              "       [0.9008, 5.7857],\n",
              "       [1.9636, 6.3382],\n",
              "       [1.4069, 4.9571],\n",
              "       [2.419 , 6.8511],\n",
              "       [2.8745, 6.0817],\n",
              "       [4.0132, 7.1668],\n",
              "       [4.6711, 7.226 ],\n",
              "       [5.1771, 8.1533],\n",
              "       [6.2146, 7.4825],\n",
              "       [5.4555, 7.0484],\n",
              "       [5.9868, 8.5084],\n",
              "       [4.0891, 7.5417],\n",
              "       [2.3937, 7.2063],\n",
              "       [1.331 , 6.5355],\n",
              "       [1.7358, 5.4503],\n",
              "       [2.4443, 5.8449],\n",
              "       [3.1781, 4.8979],\n",
              "       [4.6711, 5.8055],\n",
              "       [5.9868, 7.3641],\n",
              "       [4.6711, 6.2592],\n",
              "       [7.581 , 8.3703],\n",
              "       [4.6457, 8.5676],\n",
              "       [4.6457, 8.1676]])"
            ]
          },
          "metadata": {},
          "execution_count": 34
        }
      ]
    },
    {
      "cell_type": "code",
      "source": [
        "y=dataset.iloc[:,2].values\n",
        "y"
      ],
      "metadata": {
        "colab": {
          "base_uri": "https://localhost:8080/"
        },
        "id": "Ej_V7Svo5lVA",
        "outputId": "a5428cab-a850-4821-d02a-bc84ce289537"
      },
      "execution_count": null,
      "outputs": [
        {
          "output_type": "execute_result",
          "data": {
            "text/plain": [
              "array([1., 1., 1., 1., 1., 1., 1., 1., 1., 1., 1., 1., 1., 1., 1., 1., 1.,\n",
              "       1., 1., 1., 1., 1., 1., 1., 1., 1., 1., 1., 1., 1., 1., 1., 1., 1.,\n",
              "       1., 1., 1., 1., 1., 1., 1., 1., 1., 1., 1., 1., 1., 1., 1., 0., 0.,\n",
              "       0., 0., 0., 0., 0., 0., 0., 0., 0., 0., 0., 0., 0., 0., 0., 0., 0.,\n",
              "       0., 0., 0., 0., 0., 0., 0., 0., 0., 0., 0., 0., 0., 0., 0., 0., 0.,\n",
              "       0., 0., 0., 0., 0., 0., 0., 0., 0., 0., 0., 0., 0., 0.])"
            ]
          },
          "metadata": {},
          "execution_count": 35
        }
      ]
    },
    {
      "cell_type": "code",
      "source": [
        "xtrain, xtest, ytrain, ytest= train_test_split(x,y,test_size=0.25,random_state=0)\n",
        "xtrain\n"
      ],
      "metadata": {
        "colab": {
          "base_uri": "https://localhost:8080/"
        },
        "id": "DtFgcMqB6NoC",
        "outputId": "8c0cac0b-65c6-41c8-ea85-2a8a29f72886"
      },
      "execution_count": null,
      "outputs": [
        {
          "output_type": "execute_result",
          "data": {
            "text/plain": [
              "array([[6.0374, 4.7598],\n",
              "       [6.8725, 4.4441],\n",
              "       [4.6457, 8.1676],\n",
              "       [4.6711, 7.226 ],\n",
              "       [0.9008, 5.7857],\n",
              "       [5.9615, 6.4565],\n",
              "       [2.8745, 6.0817],\n",
              "       [1.331 , 6.5355],\n",
              "       [7.7581, 7.1865],\n",
              "       [1.6852, 2.9841],\n",
              "       [7.6569, 2.412 ],\n",
              "       [2.1154, 1.7411],\n",
              "       [3.2034, 4.4244],\n",
              "       [5.7338, 6.6538],\n",
              "       [1.7864, 4.1876],\n",
              "       [4.2409, 1.899 ],\n",
              "       [5.7591, 6.0028],\n",
              "       [6.6447, 3.8325],\n",
              "       [4.9241, 2.6882],\n",
              "       [5.8097, 3.2406],\n",
              "       [2.9757, 2.0568],\n",
              "       [0.9008, 1.169 ],\n",
              "       [5.5061, 2.9052],\n",
              "       [7.8593, 3.8128],\n",
              "       [6.3917, 3.8128],\n",
              "       [1.7358, 5.4503],\n",
              "       [4.8988, 5.5687],\n",
              "       [2.4443, 1.5438],\n",
              "       [7.7075, 5.3122],\n",
              "       [6.1387, 1.7806],\n",
              "       [1.9383, 3.6549],\n",
              "       [7.7581, 5.7265],\n",
              "       [8.3148, 5.7068],\n",
              "       [5.1518, 3.5563],\n",
              "       [4.3168, 4.4244],\n",
              "       [7.6316, 4.602 ],\n",
              "       [5.5314, 3.0828],\n",
              "       [7.2014, 6.8314],\n",
              "       [4.1144, 5.3911],\n",
              "       [2.419 , 6.8511],\n",
              "       [5.4555, 7.0484],\n",
              "       [6.0121, 3.9311],\n",
              "       [6.2146, 7.4825],\n",
              "       [4.4686, 3.0236],\n",
              "       [2.3937, 7.2063],\n",
              "       [3.2794, 1.386 ],\n",
              "       [4.4939, 1.4057],\n",
              "       [2.7227, 4.5822],\n",
              "       [7.581 , 8.3703],\n",
              "       [4.6457, 8.5676],\n",
              "       [7.7581, 7.7784],\n",
              "       [4.165 , 1.5636],\n",
              "       [4.6711, 5.8055],\n",
              "       [3.4818, 5.8055],\n",
              "       [1.9636, 6.3382],\n",
              "       [6.2652, 4.3849],\n",
              "       [8.7449, 5.4109],\n",
              "       [4.0132, 7.1668],\n",
              "       [7.8593, 5.253 ],\n",
              "       [6.999 , 3.2406],\n",
              "       [7.2014, 7.5219],\n",
              "       [5.1012, 6.0817],\n",
              "       [6.5688, 4.9571],\n",
              "       [5.1012, 7.6009],\n",
              "       [4.0891, 7.5417],\n",
              "       [8.5172, 5.1149],\n",
              "       [4.8482, 1.8793],\n",
              "       [5.1771, 8.1533],\n",
              "       [7.4038, 3.8917],\n",
              "       [4.6711, 6.2592],\n",
              "       [8.5931, 7.6206],\n",
              "       [6.6194, 7.1471],\n",
              "       [6.5941, 5.2333],\n",
              "       [8.0364, 5.7857]])"
            ]
          },
          "metadata": {},
          "execution_count": 36
        }
      ]
    },
    {
      "cell_type": "code",
      "source": [
        "ytest"
      ],
      "metadata": {
        "colab": {
          "base_uri": "https://localhost:8080/"
        },
        "id": "1PKO_z8p8LIr",
        "outputId": "72f79e4f-b634-41c1-85b6-86d00b092259"
      },
      "execution_count": null,
      "outputs": [
        {
          "output_type": "execute_result",
          "data": {
            "text/plain": [
              "array([1., 0., 1., 0., 0., 0., 1., 0., 0., 0., 0., 0., 0., 1., 1., 1., 1.,\n",
              "       1., 1., 1., 1., 0., 1., 0., 1.])"
            ]
          },
          "metadata": {},
          "execution_count": 37
        }
      ]
    },
    {
      "cell_type": "code",
      "source": [
        "classifier=LogisticRegression(random_state=0)\n",
        "classifier.fit(xtrain,ytrain)\n"
      ],
      "metadata": {
        "colab": {
          "base_uri": "https://localhost:8080/",
          "height": 158
        },
        "id": "XdtMON5P8O15",
        "outputId": "f005caba-2027-4d6f-cb5f-47d0938d5bd5"
      },
      "execution_count": null,
      "outputs": [
        {
          "output_type": "error",
          "ename": "NameError",
          "evalue": "name 'xtrain' is not defined",
          "traceback": [
            "\u001b[0;31m---------------------------------------------------------------------------\u001b[0m",
            "\u001b[0;31mNameError\u001b[0m                                 Traceback (most recent call last)",
            "\u001b[0;32m<ipython-input-2-6c7acb484b36>\u001b[0m in \u001b[0;36m<cell line: 2>\u001b[0;34m()\u001b[0m\n\u001b[1;32m      1\u001b[0m \u001b[0mclassifier\u001b[0m\u001b[0;34m=\u001b[0m\u001b[0mLogisticRegression\u001b[0m\u001b[0;34m(\u001b[0m\u001b[0mrandom_state\u001b[0m\u001b[0;34m=\u001b[0m\u001b[0;36m0\u001b[0m\u001b[0;34m)\u001b[0m\u001b[0;34m\u001b[0m\u001b[0;34m\u001b[0m\u001b[0m\n\u001b[0;32m----> 2\u001b[0;31m \u001b[0mclassifier\u001b[0m\u001b[0;34m.\u001b[0m\u001b[0mfit\u001b[0m\u001b[0;34m(\u001b[0m\u001b[0mxtrain\u001b[0m\u001b[0;34m,\u001b[0m\u001b[0mytrain\u001b[0m\u001b[0;34m)\u001b[0m\u001b[0;34m\u001b[0m\u001b[0;34m\u001b[0m\u001b[0m\n\u001b[0m",
            "\u001b[0;31mNameError\u001b[0m: name 'xtrain' is not defined"
          ]
        }
      ]
    },
    {
      "cell_type": "code",
      "source": [
        "classifier.classes_"
      ],
      "metadata": {
        "colab": {
          "base_uri": "https://localhost:8080/"
        },
        "id": "n4j7dmWmLJ5U",
        "outputId": "9ce9cdd0-37b7-47e6-cdd1-f2ef5e50de18"
      },
      "execution_count": null,
      "outputs": [
        {
          "output_type": "execute_result",
          "data": {
            "text/plain": [
              "array([0., 1.])"
            ]
          },
          "metadata": {},
          "execution_count": 51
        }
      ]
    },
    {
      "cell_type": "code",
      "source": [
        "classifier.intercept_"
      ],
      "metadata": {
        "id": "cm7dGv8h8tA-"
      },
      "execution_count": null,
      "outputs": []
    },
    {
      "cell_type": "code",
      "source": [
        "classifier.coef_"
      ],
      "metadata": {
        "colab": {
          "base_uri": "https://localhost:8080/"
        },
        "id": "h_-WGS1UMAm9",
        "outputId": "b616a1b3-bb56-4e6c-e719-e6e333d0e851"
      },
      "execution_count": null,
      "outputs": [
        {
          "output_type": "execute_result",
          "data": {
            "text/plain": [
              "array([ 1.51533124, -2.31207756])"
            ]
          },
          "metadata": {},
          "execution_count": 52
        }
      ]
    },
    {
      "cell_type": "code",
      "source": [
        "y_pred=classifier.predict(xtest)\n",
        "print(y_pred)"
      ],
      "metadata": {
        "colab": {
          "base_uri": "https://localhost:8080/"
        },
        "id": "8MWaY-dj-E26",
        "outputId": "eaca4270-44d7-4549-9ea9-5072a4da9820"
      },
      "execution_count": null,
      "outputs": [
        {
          "output_type": "stream",
          "name": "stdout",
          "text": [
            "[1. 0. 1. 0. 0. 0. 1. 0. 0. 0. 0. 0. 0. 1. 1. 1. 1. 1. 1. 1. 1. 0. 1. 0.\n",
            " 1.]\n"
          ]
        }
      ]
    },
    {
      "cell_type": "code",
      "source": [
        "print(\"Accuracy: \",accuracy_score(ytest,y_pred))"
      ],
      "metadata": {
        "colab": {
          "base_uri": "https://localhost:8080/"
        },
        "id": "WJuUrkgo-O3g",
        "outputId": "0ff6851b-764f-4f08-cd42-0e5785291506"
      },
      "execution_count": null,
      "outputs": [
        {
          "output_type": "stream",
          "name": "stdout",
          "text": [
            "Accuracy:  1.0\n"
          ]
        }
      ]
    },
    {
      "cell_type": "code",
      "source": [
        "cm=confusion_matrix(ytest,y_pred)\n",
        "print(\"Confusion matrix: \\n\",cm)"
      ],
      "metadata": {
        "colab": {
          "base_uri": "https://localhost:8080/"
        },
        "id": "sZ67wxJ9-ZP4",
        "outputId": "df30da00-b90e-4a9a-ab40-45859f78db7f"
      },
      "execution_count": null,
      "outputs": [
        {
          "output_type": "stream",
          "name": "stdout",
          "text": [
            "Confusion matrix: \n",
            " [[12  0]\n",
            " [ 0 13]]\n"
          ]
        }
      ]
    },
    {
      "cell_type": "code",
      "source": [
        "fig, ax=plt.subplots(figsize=(4,4))\n",
        "ax.imshow(cm)\n",
        "ax.grid(False)\n",
        "ax.xaxis.set(ticks=(0,1), ticklabels=(\"Predicted 0s\", \"Predicted 1s\"))\n",
        "ax.yaxis.set(ticks=(0,1), ticklabels=(\"Actual 0s\", \"Actual 1s\"))\n",
        "ax.set_ylim(1.5,-0.5)\n",
        "for i in range(2):\n",
        "  for j in range(2):\n",
        "    ax.text(j,i, cm[i,j], ha=\"center\", va=\"center\", color=\"red\")\n",
        "plt.show()"
      ],
      "metadata": {
        "colab": {
          "base_uri": "https://localhost:8080/",
          "height": 368
        },
        "id": "8-CuW8e1DDtj",
        "outputId": "5ea12a88-94c2-4ac6-cc09-10e74ad62bb5"
      },
      "execution_count": null,
      "outputs": [
        {
          "output_type": "display_data",
          "data": {
            "text/plain": [
              "<Figure size 400x400 with 1 Axes>"
            ],
            "image/png": "[encoded data removed]"
          },
          "metadata": {}
        }
      ]
    },
    {
      "cell_type": "code",
      "source": [],
      "metadata": {
        "id": "JE-s95QWGRyD"
      },
      "execution_count": null,
      "outputs": []
    }
  ]
}